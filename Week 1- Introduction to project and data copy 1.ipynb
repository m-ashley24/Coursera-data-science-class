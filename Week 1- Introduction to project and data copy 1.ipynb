{
    "cells": [
        {
            "cell_type": "markdown",
            "metadata": {
                "collapsed": true
            },
            "source": "<h1>Exploring Taipei Neighborhoods : Coffee Addiction 2.0</h1>"
        },
        {
            "cell_type": "markdown",
            "metadata": {},
            "source": "---"
        },
        {
            "cell_type": "markdown",
            "metadata": {},
            "source": "### Introduction & Business Problem:\n"
        },
        {
            "cell_type": "markdown",
            "metadata": {},
            "source": "Taipei is the political, economic, educational, and cultural center of Taiwan and one of the major hubs in East Asia.  \nConsidered to be a global city, Taipei is part of a major high-tech industrial area, where overworking is the rule.\n\n> So what could it be more important than a cup of coffee in the morning?  \n> Wouldn't be the best way to boost your energy levels?\n\nSpecialty coffee shops have sprung up on nearly every street corner in recent years. Most Taipei coffee shops are small independent businesses. There are hundreds of them throughout the city, many with expert baristas who do all the roasting in-house. There\u2019s so much competition in Taipei that you really need to make your coffee shop unique to attract enough business.  \n  "
        },
        {
            "cell_type": "markdown",
            "metadata": {},
            "source": "######  So, why not see where to find the best coffee shops in Taipei?"
        },
        {
            "cell_type": "markdown",
            "metadata": {},
            "source": "![](https://github.com/m-ashley24/Coursera-data-science-class/blob/master/coffee.png?raw=true)"
        },
        {
            "cell_type": "markdown",
            "metadata": {},
            "source": "### Target Audience\n"
        },
        {
            "cell_type": "markdown",
            "metadata": {},
            "source": "What type of clients or a group of people would be interested in this project?  \n\n- Business personnel who wants to invest or open a coffee bar. This analysis will be a comprehensive guide of what are the pros and cons of this business .\n- Student who is interested in finding the best place close to universities,high schools or just a quite place to be focused on finals.\n- A whole range of passionate coffee enthusiasts ( coffee geek or coffee nerd ) that will easily find coffee related reviews as well as hidden gems of the city.\n\n"
        },
        {
            "cell_type": "markdown",
            "metadata": {},
            "source": "### Data|\n"
        },
        {
            "cell_type": "markdown",
            "metadata": {},
            "source": "Just one city will be analysed in this project : Taipei.  \n\nIn order to segment different areas and explore them, we will essentially need a dataset that contains the different zip codes as well as the the latitude and logitude coordinates of each district.\n   \n<strong><em>Website data</em></strong>\n- Chunghwa POST \n    - https://www.post.gov.tw/post/internet/U_english/index.jsp?ID=24020501\n- Wikipedia\n    - https://en.wikipedia.org/wiki/Postal_codes_in_Taiwan\n    - https://wikitravel.org/en/Taipei\n- LatLong.net\n    - https://www.latlong.net/place/wanhua-district-taipei-city-taiwan-25007.html\n- Household Registration Offices\n    - https://www-ws.gov.taipei/001/Upload/335/relfile/16155/7968598/2b168ca1-a668-4069-a5e1-dfb857e2df6d.pdf  \n   \n\n<strong><em>Foursquare API</em></strong>\n- Taipei geographical coordinates data will be utilized as input for the Foursquare API, that will be leveraged to provision venues information for each neighborhood. We will use the Foursquare API to explore neighborhoods in the city. \n    - https://developer.foursquare.com/docs/api/venues/search\n    - https://developer.foursquare.com/docs/api/venues/details\n"
        },
        {
            "cell_type": "markdown",
            "metadata": {},
            "source": "#### Data Cleaning"
        },
        {
            "cell_type": "markdown",
            "metadata": {},
            "source": "Data downloaded or scraped from multiple sources were combined into one table with Name, Postal Code and geographical coordinates.  \nI decided to add to the main table downloaded from Wikipedia also the Districts of New Taipei City.  \nCoffe Shops and Cafe categories tags on FourSquare were summed up since they are refering at the same target shop."
        },
        {
            "cell_type": "code",
            "execution_count": null,
            "metadata": {},
            "outputs": [],
            "source": "html = wp.page(\"Postal_codes_in_Taiwan\").html().encode(\"UTF-16\")\n\n# determine the index of your table\ndf2 = pd.read_html(html, header = 0)[2]\ndf2.rename(columns={ df2.columns[1]: \"Districts\" }, inplace = True)\ndf2.drop(df.index[0], inplace=True)\ndf2\ndf2[13:42]   "
        },
        {
            "cell_type": "markdown",
            "metadata": {},
            "source": "### Exploratory Data Analysis"
        },
        {
            "cell_type": "markdown",
            "metadata": {},
            "source": "To evaluate the data I used mainly distribution plots and heat maps to gather information on the location of the coffee shops."
        },
        {
            "cell_type": "code",
            "execution_count": null,
            "metadata": {},
            "outputs": [],
            "source": "fig, ax = plt.subplots(figsize=(15, 8))\n\n# pass colors values to `color=`\nax.barh(coffee_district['Districts'], coffee_district['Place'])\n\n    \n# Add year right middle portion of canvas\nax.text(0.9, 0.7, 2019, transform=ax.transAxes, size=46, ha='right')"
        },
        {
            "cell_type": "markdown",
            "metadata": {},
            "source": "A clustering method was used to evaluate differences and similarities among Districts."
        },
        {
            "cell_type": "code",
            "execution_count": null,
            "metadata": {},
            "outputs": [],
            "source": "# set number of clusters\nkclusters = 5\n\nTaipei_clustering = Taipei_grouped.drop('Districts', 1)\n\n# run k-means clustering\nkmeans = KMeans(n_clusters=kclusters, random_state=0).fit(Taipei_clustering)\n\n# check cluster labels generated for each row in the dataframe\nkmeans.labels_[0:10] "
        },
        {
            "cell_type": "markdown",
            "metadata": {},
            "source": "### Conclusions"
        },
        {
            "cell_type": "markdown",
            "metadata": {},
            "source": "In this study, I analyzed the relationship between coffe shops position and city districts. I identified the area with the highest density and the are who could benefit from new coffee shops.  \nI built a clustering model in such a way that objects in the same group are more similar to each other than to those in other groups.\nIn this way, we can evaluate the area where opening a coffee shops will be a good investment."
        },
        {
            "cell_type": "code",
            "execution_count": null,
            "metadata": {},
            "outputs": [],
            "source": ""
        }
    ],
    "metadata": {
        "kernelspec": {
            "display_name": "Python 3.6",
            "language": "python",
            "name": "python3"
        },
        "language_info": {
            "codemirror_mode": {
                "name": "ipython",
                "version": 3
            },
            "file_extension": ".py",
            "mimetype": "text/x-python",
            "name": "python",
            "nbconvert_exporter": "python",
            "pygments_lexer": "ipython3",
            "version": "3.6.8"
        }
    },
    "nbformat": 4,
    "nbformat_minor": 1
}