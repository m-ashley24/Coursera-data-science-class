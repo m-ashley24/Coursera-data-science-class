{
    "cells": [
        {
            "cell_type": "markdown",
            "metadata": {
                "collapsed": true
            },
            "source": "<h1>Exploring Taipei Neighbourhoods : Coffee Addiction 2.0</h1>"
        },
        {
            "cell_type": "markdown",
            "metadata": {},
            "source": "---"
        },
        {
            "cell_type": "markdown",
            "metadata": {},
            "source": "#### Introduction & Business Problem:\n"
        },
        {
            "cell_type": "markdown",
            "metadata": {},
            "source": "Taipei is the political, economic, educational, and cultural center of Taiwan and one of the major hubs in East Asia.  \nConsidered to be a global city, Taipei is part of a major high-tech industrial area, where overworking is the rule.\n\n> So what could it be more important than a cup of coffee in the morning?  \n> Wouldn't be the best way to boost your energy levels?\n\nSpecialty coffee shops have sprung up on nearly every street corner in recent years. Most Taipei coffee shops are small independent businesses. There are hundreds of them throughout the city, many with expert baristas who do all the roasting in-house. There\u2019s so much competition in Taipei that you really need to make your coffee shop unique to attract enough business.  \n  "
        },
        {
            "cell_type": "markdown",
            "metadata": {},
            "source": "######  So, why not see where to find the best coffee shops in Taipei?"
        },
        {
            "cell_type": "markdown",
            "metadata": {},
            "source": "![](https://github.com/m-ashley24/Coursera-data-science-class/blob/master/coffee.png?raw=true)"
        },
        {
            "cell_type": "markdown",
            "metadata": {},
            "source": "#### Target Audience\n"
        },
        {
            "cell_type": "markdown",
            "metadata": {},
            "source": "What type of clients or a group of people would be interested in this project?  \n\n- Business personnel who wants to invest or open a coffee bar. This analysis will be a comprehensive guide of what are the pros and cons of this business .\n- Student who is interested in finding the best place close to universities,high schools or just a quite place to be focused on finals.\n- A whole range of passionate coffee enthusiasts ( coffee geek or coffee nerd ) that will easily find coffee related reviews as well as hidden gems of the city.\n\n"
        },
        {
            "cell_type": "markdown",
            "metadata": {},
            "source": "#### Data\n"
        },
        {
            "cell_type": "markdown",
            "metadata": {},
            "source": "Just one city will be analysed in this project : Taipei.  \n\nIn order to segment different areas and explore them, we will essentially need a dataset that contains the different zip codes as well as the the latitude and logitude coordinates of each district.\n    <ul>\n<li><strong><em>Website data</em></strong></li><ul>\n<li>Chunghwa <ul>\n<li> POST https://www.post.gov.tw/post/internet/U_english/index.jsp?ID=24020501</li></ul>\n<li>Wikipedia<ul>\n<li>  https://en.wikipedia.org/wiki/Postal_codes_in_Taiwan</li>\n    <li>https://wikitravel.org/en/Taipei</li>\n    </ul>\n<li>Household Registration Offices<ul>\n <li>  https://www-ws.gov.taipei/001/Upload/335/relfile/16155/7968598/2b168ca1-a668-4069-a5e1-dfb857e2df6d.pdf</li>\n    </ul></ul>\n\n\n<li><strong><em>Foursquare API</em></strong></li><ul>\n<li> Taipei geographical coordinates data will be utilized as input for the Foursquare API, that will be leveraged to provision venues information for each neighborhood. We will use the Foursquare API to explore neighborhoods in the city. <ul>\n    <li> https://developer.foursquare.com/docs/api/venues/search</li> <li> \n    https://developer.foursquare.com/docs/api/venues/details</li></ul></ul>\n"
        },
        {
            "cell_type": "code",
            "execution_count": null,
            "metadata": {},
            "outputs": [],
            "source": ""
        }
    ],
    "metadata": {
        "kernelspec": {
            "display_name": "Python 3.6",
            "language": "python",
            "name": "python3"
        },
        "language_info": {
            "codemirror_mode": {
                "name": "ipython",
                "version": 3
            },
            "file_extension": ".py",
            "mimetype": "text/x-python",
            "name": "python",
            "nbconvert_exporter": "python",
            "pygments_lexer": "ipython3",
            "version": "3.6.8"
        }
    },
    "nbformat": 4,
    "nbformat_minor": 1
}